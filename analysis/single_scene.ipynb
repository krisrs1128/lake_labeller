{
 "cells": [
  {
   "cell_type": "code",
   "execution_count": 1,
   "id": "caa70030-7d8d-4db3-b714-afa1ff29920d",
   "metadata": {},
   "outputs": [],
   "source": [
    "import pystac_client\n",
    "import planetary_computer as pc\n",
    "import geopandas as gpd\n",
    "from shapely.geometry import Point"
   ]
  },
  {
   "cell_type": "code",
   "execution_count": 2,
   "id": "1d2c4513-fbc8-4404-a520-ea4844800a4d",
   "metadata": {},
   "outputs": [],
   "source": [
    "# some helper functions\n",
    "def read_window(reader, bounds):\n",
    "    bounds_ = warp.transform_bounds(\"epsg:4326\", reader.crs, *bounds.bounds)\n",
    "    window = windows.from_bounds(*bounds_, transform=reader.transform)\n",
    "    return window, reader.read(window=window)\n",
    "\n",
    "def update_profile(reader, bounds):      \n",
    "    profile = reader.profile\n",
    "    profile.update({\n",
    "        \"height\": window.height,\n",
    "        \"width\": window.width,\n",
    "        \"transform\": windows.transform(window, reader.transform)\n",
    "    })\n",
    "    return profile"
   ]
  },
  {
   "cell_type": "code",
   "execution_count": 3,
   "id": "c10c938a-4d7d-408a-bae4-1886e0d648b8",
   "metadata": {},
   "outputs": [],
   "source": [
    "catalog = pystac_client.Client.open(\n",
    "    \"https://planetarycomputer.microsoft.com/api/stac/v1\",\n",
    "    modifier=pc.sign_inplace,\n",
    ")\n",
    "\n",
    "bounds = Point(86.55, 28).buffer(0.05)\n",
    "date_range = \"2021-01-01/2021-12-31\""
   ]
  },
  {
   "cell_type": "code",
   "execution_count": 4,
   "id": "9835b986-3589-457c-af24-fb2efacb5d16",
   "metadata": {},
   "outputs": [],
   "source": [
    "constraints = {\"eo:cloud_cover\": {\"lt\": 20}, \"s2:nodata_pixel_percentage\": {\"lt\": 10}}\n",
    "search_results = catalog.search(\n",
    "    collections=\"sentinel-2-l2a\", \n",
    "    intersects=bounds, \n",
    "    datetime=date_range, \n",
    "    query=constraints\n",
    ")"
   ]
  },
  {
   "cell_type": "code",
   "execution_count": 5,
   "id": "18a88a36-d7a9-4428-9ee1-278f9045af57",
   "metadata": {},
   "outputs": [],
   "source": [
    "import rasterio\n",
    "from rasterio import windows\n",
    "from rasterio import warp\n",
    "\n",
    "items = search_results.item_collection()\n",
    "link = items[0].assets[\"visual\"].href # would be worth downloading the other assets too\n",
    "\n",
    "## reading and writing the data\n",
    "with rasterio.open(link) as reader:\n",
    "    window, band_data = read_window(reader, bounds)\n",
    "    profile = update_profile(reader, window)\n",
    "    with rasterio.open(\"output.tiff\", \"w\", **profile) as writer:\n",
    "        writer.write(band_data)"
   ]
  },
  {
   "cell_type": "code",
   "execution_count": 6,
   "id": "4ce7699c-b6d3-4874-bb6a-13fdeed9b436",
   "metadata": {},
   "outputs": [
    {
     "name": "stdout",
     "output_type": "stream",
     "text": [
      "Creating output file that is 1055P x 1053L.\n",
      "Processing output.tiff [1/1] : 0Using internal nodata values (e.g. 0) for image output.tiff.\n",
      "Copying nodata values from source output.tiff to destination output-warped.tiff.\n",
      "...10...20...30...40...50...60...70...80...90...100 - done.\n"
     ]
    }
   ],
   "source": [
    "!gdalwarp -s_srs epsg:32645 -t_srs epsg:4326 output.tiff output-warped.tiff"
   ]
  },
  {
   "cell_type": "code",
   "execution_count": null,
   "id": "7ac39864-cba8-4651-a36e-d27776135bdf",
   "metadata": {},
   "outputs": [],
   "source": []
  }
 ],
 "metadata": {
  "kernelspec": {
   "display_name": "glaciers",
   "language": "python",
   "name": "glaciers"
  },
  "language_info": {
   "codemirror_mode": {
    "name": "ipython",
    "version": 3
   },
   "file_extension": ".py",
   "mimetype": "text/x-python",
   "name": "python",
   "nbconvert_exporter": "python",
   "pygments_lexer": "ipython3",
   "version": "3.11.0"
  }
 },
 "nbformat": 4,
 "nbformat_minor": 5
}
