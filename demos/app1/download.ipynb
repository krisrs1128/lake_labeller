{
 "cells": [
  {
   "cell_type": "code",
   "execution_count": 9,
   "id": "27d13ad0-01d5-4b31-881b-a177d62119b0",
   "metadata": {},
   "outputs": [],
   "source": [
    "from pystac_client import Client\n",
    "from pystac.extensions.eo import EOExtension as eo\n",
    "import planetary_computer as pc\n",
    "import geopandas as gpd\n",
    "import rasterio\n",
    "from rasterio import warp, windows\n"
   ]
  },
  {
   "cell_type": "code",
   "execution_count": 39,
   "id": "e49d5654-ac8e-46e8-ba75-4f5b5b1bdc42",
   "metadata": {},
   "outputs": [],
   "source": [
    "def fetch_s2_hrefs(catalog, aoi, time_range, max_nodata=20, max_cloud=0.5, n_scenes=15):\n",
    "    search = catalog.search(\n",
    "        collections=[\"sentinel-2-l2a\"],\n",
    "        bbox=aoi.bounds,\n",
    "        datetime=time_range,\n",
    "        query={\n",
    "            \"s2:nodata_pixel_percentage\": {\"lt\": max_nodata},\n",
    "            \"s2:high_proba_clouds_percentage\": {\"lt\": max_cloud}\n",
    "        }\n",
    "    )\n",
    "\n",
    "    # find items satisfying query\n",
    "    items = list(search.get_items())\n",
    "    if len(items) == 0:\n",
    "        raise ValueError(\"No items satisfy query!\")\n",
    "    items = sorted(items, key=lambda z: z.properties[\"eo:cloud_cover\"])[:n_scenes]\n",
    "\n",
    "    # for each item, get hrefs to each band\n",
    "    links, properties = {}, {}\n",
    "    for item in items:\n",
    "        bands = {}\n",
    "        for k, v in item.assets.items():\n",
    "            if k.startswith(\"B\"):\n",
    "                bands[k] = pc.sign(v.href)\n",
    "        id = item.properties[\"s2:product_uri\"]\n",
    "        properties[id] = item.properties\n",
    "        links[id] = bands\n",
    "\n",
    "    return properties, links\n",
    "\n",
    "\n",
    "def write_rasters(scenes, aoi):\n",
    "    for id, bands in scenes.items():\n",
    "        write_bands(id, bands, aoi)\n",
    "\n",
    "def write_bands(id, bands, aoi):\n",
    "    one_band = next(iter(bands.values()))\n",
    "    meta = rasterio.open(one_band).meta\n",
    "    meta[\"count\"] = len(bands)\n",
    "    \n",
    "    aoi_bounds = warp.transform_bounds(\"epsg:4326\", meta[\"crs\"], *aoi.bounds)\n",
    "    aoi_window = windows.from_bounds(transform=meta[\"transform\"], *aoi_bounds)\n",
    "    with rasterio.open(f\"{id}.tif\", \"w\", **meta) as dst:\n",
    "        for i, (k, v) in enumerate(bands.items()):\n",
    "            dst.write_band(i + 1, rasterio.open(v).read(window=aoi_window).squeeze())\n",
    "            dst.set_band_description(i + 1, k)"
   ]
  },
  {
   "cell_type": "code",
   "execution_count": 68,
   "id": "81ca659f-580f-44b9-9ef3-0c06749c0a1d",
   "metadata": {},
   "outputs": [],
   "source": [
    "import pandas as pd\n",
    "\n",
    "catalog = Client.open(\"https://planetarycomputer.microsoft.com/api/stac/v1\")\n",
    "lakes = gpd.read_file(\"../../data/GL_3basins_2015.shp\")\n",
    "aoi = lakes.geometry.envelope.scale(5, 5)[3]\n",
    "properties, links = fetch_hrefs(catalog, aoi, \"2019-01-01/2020-01-01\")\n",
    "write_rasters(links, aoi)\n",
    "\n",
    "properties = pd.DataFrame.from_records(properties).T\n",
    "properties.to_csv(\"properties.csv\")"
   ]
  }
 ],
 "metadata": {
  "kernelspec": {
   "display_name": "lakes_labeller",
   "language": "python",
   "name": "lakes_labeller"
  },
  "language_info": {
   "codemirror_mode": {
    "name": "ipython",
    "version": 3
   },
   "file_extension": ".py",
   "mimetype": "text/x-python",
   "name": "python",
   "nbconvert_exporter": "python",
   "pygments_lexer": "ipython3",
   "version": "3.9.12"
  }
 },
 "nbformat": 4,
 "nbformat_minor": 5
}
