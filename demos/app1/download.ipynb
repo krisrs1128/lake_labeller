{
 "cells": [
  {
   "cell_type": "code",
   "execution_count": null,
   "id": "27d13ad0-01d5-4b31-881b-a177d62119b0",
   "metadata": {},
   "outputs": [],
   "source": [
    "from pystac_client import Client\n",
    "from pystac.extensions.eo import EOExtension as eo\n",
    "import planetary_computer as pc\n",
    "import geopandas as gpd\n",
    "import rasterio\n",
    "from rasterio import warp, windows\n"
   ]
  },
  {
   "cell_type": "code",
   "execution_count": null,
   "id": "e49d5654-ac8e-46e8-ba75-4f5b5b1bdc42",
   "metadata": {},
   "outputs": [],
   "source": [
    "def fetch_s2_hrefs(catalog, aoi, time_range, max_nodata=20, max_cloud=.5):\n",
    "    search = catalog.search(\n",
    "        collections=[\"sentinel-2-l2a\"],\n",
    "        intersects=aoi,\n",
    "        datetime=time_range,\n",
    "        query={\n",
    "            \"s2:nodata_pixel_percentage\": {\"lt\": max_nodata},\n",
    "            \"s2:high_proba_clouds_percentage\": {\"lt\": max_cloud}\n",
    "        }\n",
    "    )\n",
    "\n",
    "    # for each item, get hrefs to each band\n",
    "    items = search.get_items()\n",
    "    links, properties = {}, {}\n",
    "    for item in items:\n",
    "        bands = {}\n",
    "        for k, v in item.assets.items():\n",
    "            if k.startswith(\"B\") or k == \"SCL\":\n",
    "                bands[k] = pc.sign(v.href)\n",
    "        id = item.properties[\"s2:product_uri\"]\n",
    "        properties[id] = item.properties\n",
    "        links[id] = bands\n",
    "\n",
    "    return properties, links\n",
    "\n",
    "\n",
    "def write_scenes(scenes, aoi):\n",
    "    for id, bands in scenes.items():\n",
    "        write_scene(id, bands, aoi)\n",
    "\n",
    "\n",
    "from rasterio import windows\n",
    "from rasterio.mask import mask\n",
    "\n",
    "def write_scene(id, bands, aoi):\n",
    "    one_band = next(iter(bands.values()))\n",
    "    scene = rasterio.open(one_band)\n",
    "    masked, transform = mask(scene, [aoi], crop=True)\n",
    "\n",
    "    meta = scene.meta\n",
    "    meta[\"count\"] = len(bands)\n",
    "    meta[\"transform\"] = transform\n",
    "    meta[\"width\"] = masked.shape[2]\n",
    "    meta[\"height\"] = masked.shape[1]\n",
    "    \n",
    "    window = windows.from_bounds(*aoi.bounds, transform=meta[\"transform\"])\n",
    "    with rasterio.open(f\"{id}.tif\", \"w\", **meta) as dst:\n",
    "        for i, (k, v) in enumerate(bands.items()):\n",
    "            scene = rasterio.open(v)\n",
    "            masked, _ = mask(scene, [aoi], crop=True)\n",
    "            dst.write_band(i + 1, masked.squeeze())"
   ]
  },
  {
   "cell_type": "code",
   "execution_count": null,
   "id": "81ca659f-580f-44b9-9ef3-0c06749c0a1d",
   "metadata": {},
   "outputs": [],
   "source": [
    "import pandas as pd\n",
    "\n",
    "catalog = Client.open(\"https://planetarycomputer.microsoft.com/api/stac/v1\")\n",
    "lakes = gpd.read_file(\"../../data/GL_3basins_2015.shp\")\n",
    "lakes = lakes[lakes.Area > 1].reset_index()\n",
    "lakes_proj = lakes.to_crs(32645)\n",
    "\n",
    "properties = []\n",
    "for i in range(len(lakes)):\n",
    "    properties_, links = fetch_s2_hrefs(catalog, lakes.geometry[i], \"2015-01-01/2022-01-01\")\n",
    "    aoi_proj = lakes_proj.geometry[i].buffer(500).envelope\n",
    "    write_scenes(links, aoi_proj)\n",
    "    \n",
    "    properties.append(pd.DataFrame.from_records(properties_).T)\n",
    "\n",
    "properties = pd.concat(properties)\n",
    "properties.to_csv(\"properties.csv\")"
   ]
  },
  {
   "cell_type": "code",
   "execution_count": null,
   "id": "56dcc2b2-48e8-4356-a3f4-fc2588119a02",
   "metadata": {},
   "outputs": [],
   "source": [
    "!gdalwarp -s_srs EPSG:32645 -t_srs EPSG:4326 S2A_MSIL2A_20191015T044751_N0212_R076_T45RVN_20201004T022821.SAFE.tif out.tif"
   ]
  },
  {
   "cell_type": "code",
   "execution_count": null,
   "id": "1b87a1b7-b762-4788-8c3f-77592aec2587",
   "metadata": {},
   "outputs": [],
   "source": []
  }
 ],
 "metadata": {
  "kernelspec": {
   "display_name": "lakes_labeller",
   "language": "python",
   "name": "lakes_labeller"
  },
  "language_info": {
   "codemirror_mode": {
    "name": "ipython",
    "version": 3
   },
   "file_extension": ".py",
   "mimetype": "text/x-python",
   "name": "python",
   "nbconvert_exporter": "python",
   "pygments_lexer": "ipython3",
   "version": "3.9.12"
  }
 },
 "nbformat": 4,
 "nbformat_minor": 5
}
