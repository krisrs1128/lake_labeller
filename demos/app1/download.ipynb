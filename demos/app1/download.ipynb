{
 "cells": [
  {
   "cell_type": "code",
   "execution_count": null,
   "id": "27d13ad0-01d5-4b31-881b-a177d62119b0",
   "metadata": {},
   "outputs": [],
   "source": [
    "from pystac_client import Client\n",
    "from pystac.extensions.eo import EOExtension as eo\n",
    "import planetary_computer as pc\n",
    "import geopandas as gpd\n",
    "import rasterio\n",
    "from rasterio import warp, windows\n"
   ]
  },
  {
   "cell_type": "code",
   "execution_count": null,
   "id": "e49d5654-ac8e-46e8-ba75-4f5b5b1bdc42",
   "metadata": {},
   "outputs": [],
   "source": [
    "def fetch_s2_hrefs(catalog, aoi, time_range, max_nodata=20, max_cloud=0.5):\n",
    "    search = catalog.search(\n",
    "        collections=[\"sentinel-2-l2a\"],\n",
    "        bbox=aoi.bounds,\n",
    "        datetime=time_range,\n",
    "        query={\n",
    "            \"s2:nodata_pixel_percentage\": {\"lt\": max_nodata},\n",
    "            \"s2:high_proba_clouds_percentage\": {\"lt\": max_cloud}\n",
    "        }\n",
    "    )\n",
    "\n",
    "    # find items satisfying query\n",
    "    items = list(search.get_items())\n",
    "    if len(items) == 0:\n",
    "        raise ValueError(\"No items satisfy query!\")\n",
    "\n",
    "    # for each item, get hrefs to each band\n",
    "    links, properties = {}, {}\n",
    "    for item in items:\n",
    "        bands = {}\n",
    "        for k, v in item.assets.items():\n",
    "            if k.startswith(\"B\"):\n",
    "                bands[k] = pc.sign(v.href)\n",
    "        id = item.properties[\"s2:product_uri\"]\n",
    "        properties[id] = item.properties\n",
    "        links[id] = bands\n",
    "\n",
    "    return properties, links\n",
    "\n",
    "\n",
    "def write_scenes(scenes, aoi):\n",
    "    for id, bands in scenes.items():\n",
    "        write_scene(id, bands, aoi)\n",
    "\n",
    "def write_scene(id, bands, aoi):\n",
    "    one_band = next(iter(bands.values()))\n",
    "    meta = rasterio.open(one_band).meta\n",
    "    meta[\"count\"] = len(bands)\n",
    "    \n",
    "    aoi_window = windows.from_bounds(transform=meta[\"transform\"], *aoi.bounds)\n",
    "    print(meta)\n",
    "    with rasterio.open(f\"{id}.tif\", \"w\", **meta) as dst:\n",
    "        for i, (k, v) in enumerate(bands.items()):\n",
    "            dst.write_band(i + 1, rasterio.open(v).read(window=aoi_window).squeeze())\n",
    "            dst.set_band_description(i + 1, k)"
   ]
  },
  {
   "cell_type": "code",
   "execution_count": null,
   "id": "81ca659f-580f-44b9-9ef3-0c06749c0a1d",
   "metadata": {},
   "outputs": [],
   "source": [
    "import pandas as pd\n",
    "\n",
    "catalog = Client.open(\"https://planetarycomputer.microsoft.com/api/stac/v1\")\n",
    "lakes = gpd.read_file(\"../../data/GL_3basins_2015.shp\")\n",
    "aoi = lakes.geometry.envelope[3]\n",
    "aoi_proj = lakes.to_crs(32645)\n",
    "aoi_proj = aoi_proj.geometry.envelope[3]\n",
    "\n",
    "properties, links = fetch_s2_hrefs(catalog, aoi, \"2019-01-01/2020-01-01\")\n",
    "write_rasters(links, aoi_proj)\n",
    "\n",
    "properties = pd.DataFrame.from_records(properties).T\n",
    "properties.to_csv(\"properties.csv\")"
   ]
  },
  {
   "cell_type": "code",
   "execution_count": null,
   "id": "56dcc2b2-48e8-4356-a3f4-fc2588119a02",
   "metadata": {},
   "outputs": [],
   "source": [
    "!gdalwarp -s_srs EPSG:32645 -t_srs EPSG:4326 S2A_MSIL2A_20191015T044751_N0212_R076_T45RVN_20201004T022821.SAFE.tif out.tif"
   ]
  },
  {
   "cell_type": "code",
   "execution_count": null,
   "id": "4d24f5fe-a39d-4511-8762-9945bb7d8692",
   "metadata": {},
   "outputs": [],
   "source": []
  }
 ],
 "metadata": {
  "kernelspec": {
   "display_name": "lakes_labeller",
   "language": "python",
   "name": "lakes_labeller"
  },
  "language_info": {
   "codemirror_mode": {
    "name": "ipython",
    "version": 3
   },
   "file_extension": ".py",
   "mimetype": "text/x-python",
   "name": "python",
   "nbconvert_exporter": "python",
   "pygments_lexer": "ipython3",
   "version": "3.9.12"
  }
 },
 "nbformat": 4,
 "nbformat_minor": 5
}
