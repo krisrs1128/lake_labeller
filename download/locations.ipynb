{
 "cells": [
  {
   "attachments": {},
   "cell_type": "markdown",
   "metadata": {},
   "source": [
    "This notebook builds the locations used for the download script, saved in\n",
    "`scenes.json`. We are currently only downloading data for the Dudh Koshi basin."
   ]
  },
  {
   "cell_type": "code",
   "execution_count": 51,
   "metadata": {},
   "outputs": [],
   "source": [
    "import geopandas as gpd\n",
    "import numpy as np\n",
    "import pandas as pd"
   ]
  },
  {
   "cell_type": "code",
   "execution_count": 47,
   "metadata": {},
   "outputs": [
    {
     "data": {
      "text/plain": [
       "(25, 2)"
      ]
     },
     "execution_count": 47,
     "metadata": {},
     "output_type": "execute_result"
    }
   ],
   "source": [
    "glaciers = gpd.read_file(\"https://uwmadison.box.com/shared/static/mp36dj1ilywv4fzcx7x7j6uriql9db94.geojson\")\n",
    "min_x, min_y, max_x, max_y = glaciers[glaciers.Basin == \"Koshi\"].unary_union.bounds\n",
    "\n",
    "x_grid = np.linspace(min_x, max_x, 5)\n",
    "y_grid = np.linspace(min_y, max_y, 5)\n",
    "grid = np.array(np.meshgrid(x_grid, y_grid)).T.reshape(-1, 2)"
   ]
  },
  {
   "cell_type": "code",
   "execution_count": 59,
   "metadata": {},
   "outputs": [],
   "source": [
    "scenes = pd.DataFrame({\n",
    "    \"lon\": grid[:, 0],\n",
    "    \"lat\": grid[:, 1],\n",
    "    \"start\": \"2022-04-01\",\n",
    "    \"end\": \"2022-11-01\"\n",
    "})\n",
    "\n",
    "scenes.to_json(\"scenes.json\", orient=\"records\")"
   ]
  },
  {
   "cell_type": "code",
   "execution_count": null,
   "metadata": {},
   "outputs": [],
   "source": []
  }
 ],
 "metadata": {
  "kernelspec": {
   "display_name": "glaciers",
   "language": "python",
   "name": "glaciers"
  },
  "language_info": {
   "codemirror_mode": {
    "name": "ipython",
    "version": 3
   },
   "file_extension": ".py",
   "mimetype": "text/x-python",
   "name": "python",
   "nbconvert_exporter": "python",
   "pygments_lexer": "ipython3",
   "version": "3.9.15"
  },
  "orig_nbformat": 4,
  "vscode": {
   "interpreter": {
    "hash": "aee8b7b246df8f9039afb4144a1f6fd8d2ca17a180786b69acc140d282b71a49"
   }
  }
 },
 "nbformat": 4,
 "nbformat_minor": 2
}
